{
 "cells": [
  {
   "cell_type": "code",
   "execution_count": 1,
   "id": "71c81f3b",
   "metadata": {},
   "outputs": [],
   "source": [
    "# sort , search and counting function"
   ]
  },
  {
   "cell_type": "code",
   "execution_count": 2,
   "id": "e49b5ac9",
   "metadata": {},
   "outputs": [],
   "source": [
    "import numpy as np"
   ]
  },
  {
   "cell_type": "code",
   "execution_count": 7,
   "id": "610b058b",
   "metadata": {},
   "outputs": [],
   "source": [
    "arr = np.array([2,3,900,23,66,4,5,6])"
   ]
  },
  {
   "cell_type": "code",
   "execution_count": 8,
   "id": "876f41a6",
   "metadata": {},
   "outputs": [
    {
     "data": {
      "text/plain": [
       "array([  2,   3,   4,   5,   6,  23,  66, 900])"
      ]
     },
     "execution_count": 8,
     "metadata": {},
     "output_type": "execute_result"
    }
   ],
   "source": [
    "np.sort(arr)"
   ]
  },
  {
   "cell_type": "code",
   "execution_count": 10,
   "id": "c595ecc5",
   "metadata": {},
   "outputs": [
    {
     "data": {
      "text/plain": [
       "8"
      ]
     },
     "execution_count": 10,
     "metadata": {},
     "output_type": "execute_result"
    }
   ],
   "source": [
    "np.searchsorted(arr,100)"
   ]
  },
  {
   "cell_type": "code",
   "execution_count": 11,
   "id": "7ed5c1c4",
   "metadata": {},
   "outputs": [],
   "source": [
    "arr1 = np.array([0,344,676,44,53,24,5,5,0,0,54])"
   ]
  },
  {
   "cell_type": "code",
   "execution_count": 12,
   "id": "74340ef1",
   "metadata": {},
   "outputs": [
    {
     "data": {
      "text/plain": [
       "8"
      ]
     },
     "execution_count": 12,
     "metadata": {},
     "output_type": "execute_result"
    }
   ],
   "source": [
    "np.count_nonzero(arr1)"
   ]
  },
  {
   "cell_type": "code",
   "execution_count": 13,
   "id": "55708cd2",
   "metadata": {},
   "outputs": [
    {
     "data": {
      "text/plain": [
       "11"
      ]
     },
     "execution_count": 13,
     "metadata": {},
     "output_type": "execute_result"
    }
   ],
   "source": [
    "len(arr1)"
   ]
  },
  {
   "cell_type": "code",
   "execution_count": 14,
   "id": "3b7f96d8",
   "metadata": {},
   "outputs": [
    {
     "data": {
      "text/plain": [
       "3"
      ]
     },
     "execution_count": 14,
     "metadata": {},
     "output_type": "execute_result"
    }
   ],
   "source": [
    "11-8"
   ]
  },
  {
   "cell_type": "code",
   "execution_count": 16,
   "id": "a8c675f9",
   "metadata": {},
   "outputs": [
    {
     "data": {
      "text/plain": [
       "(array([10], dtype=int64),)"
      ]
     },
     "execution_count": 16,
     "metadata": {},
     "output_type": "execute_result"
    }
   ],
   "source": [
    "np.where(arr1 == 54)"
   ]
  },
  {
   "cell_type": "code",
   "execution_count": 19,
   "id": "e0092cc4",
   "metadata": {},
   "outputs": [
    {
     "data": {
      "text/plain": [
       "array([344, 676,  44,  53,  54])"
      ]
     },
     "execution_count": 19,
     "metadata": {},
     "output_type": "execute_result"
    }
   ],
   "source": [
    "np.extract(arr1 > 40,arr1)"
   ]
  },
  {
   "cell_type": "code",
   "execution_count": 20,
   "id": "9eec1d3d",
   "metadata": {},
   "outputs": [],
   "source": [
    "# numpy byte swapping"
   ]
  },
  {
   "cell_type": "code",
   "execution_count": 40,
   "id": "7d7492cd",
   "metadata": {},
   "outputs": [
    {
     "data": {
      "text/plain": [
       "array([          0,  1476460544, -1543372800,   738197504,   889192448,\n",
       "         402653184,    83886080,    83886080,           0,           0,\n",
       "         905969664])"
      ]
     },
     "execution_count": 40,
     "metadata": {},
     "output_type": "execute_result"
    }
   ],
   "source": [
    "arr1"
   ]
  },
  {
   "cell_type": "code",
   "execution_count": 41,
   "id": "e91a5c7b",
   "metadata": {},
   "outputs": [],
   "source": [
    "# arr1.byteswap(True)\n",
    "# True is like inplace"
   ]
  },
  {
   "cell_type": "code",
   "execution_count": 42,
   "id": "bfd33254",
   "metadata": {},
   "outputs": [
    {
     "data": {
      "text/plain": [
       "array([          0,  1476460544, -1543372800,   738197504,   889192448,\n",
       "         402653184,    83886080,    83886080,           0,           0,\n",
       "         905969664])"
      ]
     },
     "execution_count": 42,
     "metadata": {},
     "output_type": "execute_result"
    }
   ],
   "source": [
    "arr1"
   ]
  },
  {
   "cell_type": "code",
   "execution_count": 43,
   "id": "b093cf32",
   "metadata": {},
   "outputs": [],
   "source": [
    "a = np.copy(arr1)\n",
    "# deep copy"
   ]
  },
  {
   "cell_type": "code",
   "execution_count": 44,
   "id": "ecda2be8",
   "metadata": {},
   "outputs": [
    {
     "data": {
      "text/plain": [
       "array([          0,  1476460544, -1543372800,   738197504,   889192448,\n",
       "         402653184,    83886080,    83886080,           0,           0,\n",
       "         905969664])"
      ]
     },
     "execution_count": 44,
     "metadata": {},
     "output_type": "execute_result"
    }
   ],
   "source": [
    "a"
   ]
  },
  {
   "cell_type": "code",
   "execution_count": 47,
   "id": "87be3235",
   "metadata": {},
   "outputs": [],
   "source": [
    "b = arr1.view()\n",
    "# shallow copy"
   ]
  },
  {
   "cell_type": "code",
   "execution_count": 48,
   "id": "70182eef",
   "metadata": {},
   "outputs": [
    {
     "data": {
      "text/plain": [
       "array([          0,  1476460544, -1543372800,   738197504,   889192448,\n",
       "         402653184,    83886080,    83886080,           0,           0,\n",
       "         905969664])"
      ]
     },
     "execution_count": 48,
     "metadata": {},
     "output_type": "execute_result"
    }
   ],
   "source": [
    "b"
   ]
  },
  {
   "cell_type": "code",
   "execution_count": 49,
   "id": "c1a9dba0",
   "metadata": {},
   "outputs": [],
   "source": [
    "b[0] = 109"
   ]
  },
  {
   "cell_type": "code",
   "execution_count": 50,
   "id": "42e58778",
   "metadata": {},
   "outputs": [
    {
     "data": {
      "text/plain": [
       "array([        109,  1476460544, -1543372800,   738197504,   889192448,\n",
       "         402653184,    83886080,    83886080,           0,           0,\n",
       "         905969664])"
      ]
     },
     "execution_count": 50,
     "metadata": {},
     "output_type": "execute_result"
    }
   ],
   "source": [
    "b"
   ]
  },
  {
   "cell_type": "code",
   "execution_count": 51,
   "id": "f232ac07",
   "metadata": {},
   "outputs": [],
   "source": [
    "# Matrix library"
   ]
  },
  {
   "cell_type": "code",
   "execution_count": 52,
   "id": "40d650a5",
   "metadata": {},
   "outputs": [],
   "source": [
    "import numpy.matlib as nm"
   ]
  },
  {
   "cell_type": "code",
   "execution_count": 55,
   "id": "115a3ed6",
   "metadata": {},
   "outputs": [
    {
     "data": {
      "text/plain": [
       "matrix([[1., 1., 1., 1.],\n",
       "        [1., 1., 1., 1.],\n",
       "        [1., 1., 1., 1.]])"
      ]
     },
     "execution_count": 55,
     "metadata": {},
     "output_type": "execute_result"
    }
   ],
   "source": [
    "nm.ones((3,4))\n",
    "# matrix is subclass of array"
   ]
  },
  {
   "cell_type": "code",
   "execution_count": 56,
   "id": "464ca28d",
   "metadata": {},
   "outputs": [
    {
     "data": {
      "text/plain": [
       "matrix([[0., 0., 0., 0., 0.]])"
      ]
     },
     "execution_count": 56,
     "metadata": {},
     "output_type": "execute_result"
    }
   ],
   "source": [
    "nm.zeros(5)"
   ]
  },
  {
   "cell_type": "code",
   "execution_count": 57,
   "id": "5ba36323",
   "metadata": {},
   "outputs": [
    {
     "data": {
      "text/plain": [
       "matrix([[1., 0., 0., 0.],\n",
       "        [0., 1., 0., 0.],\n",
       "        [0., 0., 1., 0.],\n",
       "        [0., 0., 0., 1.]])"
      ]
     },
     "execution_count": 57,
     "metadata": {},
     "output_type": "execute_result"
    }
   ],
   "source": [
    "nm.eye(4)"
   ]
  },
  {
   "cell_type": "code",
   "execution_count": 58,
   "id": "959bde2a",
   "metadata": {},
   "outputs": [],
   "source": [
    "# Linear algebra"
   ]
  },
  {
   "cell_type": "code",
   "execution_count": 59,
   "id": "516d308d",
   "metadata": {},
   "outputs": [],
   "source": [
    "arr1 = np.random.randint([[2,3],[4,5]])"
   ]
  },
  {
   "cell_type": "code",
   "execution_count": 60,
   "id": "949dcb0c",
   "metadata": {},
   "outputs": [],
   "source": [
    "arr2 = np.random.randint([[5,3],[2,5]])"
   ]
  },
  {
   "cell_type": "code",
   "execution_count": 61,
   "id": "d3cc85fd",
   "metadata": {},
   "outputs": [
    {
     "data": {
      "text/plain": [
       "array([[1, 2],\n",
       "       [3, 1]])"
      ]
     },
     "execution_count": 61,
     "metadata": {},
     "output_type": "execute_result"
    }
   ],
   "source": [
    "arr1"
   ]
  },
  {
   "cell_type": "code",
   "execution_count": 62,
   "id": "cb28ddf5",
   "metadata": {},
   "outputs": [
    {
     "data": {
      "text/plain": [
       "array([[1, 0],\n",
       "       [1, 4]])"
      ]
     },
     "execution_count": 62,
     "metadata": {},
     "output_type": "execute_result"
    }
   ],
   "source": [
    "arr2"
   ]
  },
  {
   "cell_type": "code",
   "execution_count": 63,
   "id": "8f2b3211",
   "metadata": {},
   "outputs": [
    {
     "data": {
      "text/plain": [
       "array([[3, 8],\n",
       "       [4, 4]])"
      ]
     },
     "execution_count": 63,
     "metadata": {},
     "output_type": "execute_result"
    }
   ],
   "source": [
    "np.dot(arr1,arr2)"
   ]
  },
  {
   "cell_type": "code",
   "execution_count": 64,
   "id": "6666058e",
   "metadata": {},
   "outputs": [
    {
     "data": {
      "text/plain": [
       "array([[3, 8],\n",
       "       [4, 4]])"
      ]
     },
     "execution_count": 64,
     "metadata": {},
     "output_type": "execute_result"
    }
   ],
   "source": [
    "arr1@arr2"
   ]
  },
  {
   "cell_type": "code",
   "execution_count": null,
   "id": "3547bb40",
   "metadata": {},
   "outputs": [],
   "source": []
  }
 ],
 "metadata": {
  "kernelspec": {
   "display_name": "Python 3 (ipykernel)",
   "language": "python",
   "name": "python3"
  },
  "language_info": {
   "codemirror_mode": {
    "name": "ipython",
    "version": 3
   },
   "file_extension": ".py",
   "mimetype": "text/x-python",
   "name": "python",
   "nbconvert_exporter": "python",
   "pygments_lexer": "ipython3",
   "version": "3.11.1"
  }
 },
 "nbformat": 4,
 "nbformat_minor": 5
}
